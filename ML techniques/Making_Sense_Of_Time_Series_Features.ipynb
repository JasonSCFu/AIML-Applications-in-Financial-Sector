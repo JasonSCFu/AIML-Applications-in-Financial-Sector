{
 "cells": [
  {
   "cell_type": "markdown",
   "metadata": {
    "id": "XJoqVFgCldg3"
   },
   "source": [
    "## Making Sense Of Time Series Features\n",
    "\n",
    "Time series features is a very important type of features in a lot of banking use cases. For example, transaction time may be related to fraud cases, e-banking log on time may be related to customer's banking behaviours etc. In this notebook, I will look at different approaches for encoding time series variables. The objective is to determine the most effective method for representing date and time in a time series."
   ]
  },
  {
   "cell_type": "code",
   "execution_count": 51,
   "metadata": {
    "ExecuteTime": {
     "end_time": "2019-02-15T13:40:44.343418Z",
     "start_time": "2019-02-15T13:40:44.287685Z"
    },
    "colab": {
     "base_uri": "https://localhost:8080/",
     "height": 53
    },
    "id": "eMIFRWf9ldg-",
    "outputId": "40477999-5b40-48f2-89f1-4d9bb9d6e53f"
   },
   "outputs": [],
   "source": [
    "import pandas as pd\n",
    "import numpy as np\n",
    "import matplotlib.pyplot as plt\n",
    "\n",
    "import sys\n",
    "sys.path.append('../..')\n",
    "\n",
    "# Options for pandas\n",
    "pd.options.display.max_columns = 20\n",
    "pd.options.display.max_rows = 10\n"
   ]
  },
  {
   "cell_type": "markdown",
   "metadata": {
    "id": "JF2c0X-bldhD"
   },
   "source": [
    "### Data: Building Energy Use\n",
    "\n",
    "We'll work with building energy use at a 15 minute frequency. Building energy data is a useful time series because it exhibits patterns at the daily, weekly, and yearly levels. "
   ]
  },
  {
   "cell_type": "code",
   "execution_count": 2,
   "metadata": {
    "ExecuteTime": {
     "end_time": "2019-02-15T13:42:08.724804Z",
     "start_time": "2019-02-15T13:42:08.502793Z"
    },
    "colab": {
     "base_uri": "https://localhost:8080/",
     "height": 237
    },
    "id": "ckxa394uldhE",
    "outputId": "2c2c7a55-9bc6-4f95-ddc9-90d6d31b7d94"
   },
   "outputs": [
    {
     "data": {
      "text/html": [
       "<div>\n",
       "<style scoped>\n",
       "    .dataframe tbody tr th:only-of-type {\n",
       "        vertical-align: middle;\n",
       "    }\n",
       "\n",
       "    .dataframe tbody tr th {\n",
       "        vertical-align: top;\n",
       "    }\n",
       "\n",
       "    .dataframe thead th {\n",
       "        text-align: right;\n",
       "    }\n",
       "</style>\n",
       "<table border=\"1\" class=\"dataframe\">\n",
       "  <thead>\n",
       "    <tr style=\"text-align: right;\">\n",
       "      <th></th>\n",
       "      <th>energy</th>\n",
       "    </tr>\n",
       "    <tr>\n",
       "      <th>timestamp</th>\n",
       "      <th></th>\n",
       "    </tr>\n",
       "  </thead>\n",
       "  <tbody>\n",
       "    <tr>\n",
       "      <th>2015-05-01 04:15:00</th>\n",
       "      <td>11.754912</td>\n",
       "    </tr>\n",
       "    <tr>\n",
       "      <th>2015-05-01 04:15:00</th>\n",
       "      <td>11.477615</td>\n",
       "    </tr>\n",
       "    <tr>\n",
       "      <th>2015-05-01 04:30:00</th>\n",
       "      <td>11.740892</td>\n",
       "    </tr>\n",
       "    <tr>\n",
       "      <th>2015-05-01 04:45:00</th>\n",
       "      <td>14.156742</td>\n",
       "    </tr>\n",
       "    <tr>\n",
       "      <th>2015-05-01 04:45:00</th>\n",
       "      <td>9.213514</td>\n",
       "    </tr>\n",
       "  </tbody>\n",
       "</table>\n",
       "</div>"
      ],
      "text/plain": [
       "                        energy\n",
       "timestamp                     \n",
       "2015-05-01 04:15:00  11.754912\n",
       "2015-05-01 04:15:00  11.477615\n",
       "2015-05-01 04:30:00  11.740892\n",
       "2015-05-01 04:45:00  14.156742\n",
       "2015-05-01 04:45:00   9.213514"
      ]
     },
     "execution_count": 2,
     "metadata": {},
     "output_type": "execute_result"
    }
   ],
   "source": [
    "data = pd.read_csv('C:/Users/ssche/Desktop/building_8_energy_data.csv', parse_dates=['timestamp'], usecols=['timestamp', 'energy'], index_col='timestamp').sort_index()\n",
    "data.head()"
   ]
  },
  {
   "cell_type": "markdown",
   "metadata": {
    "id": "cPW4t2xaldhG"
   },
   "source": [
    "### Basic Time and Date Features\n",
    "\n",
    "The first set of features we'll build are those we intuitively think of: minute, hour, dayofweek, month, dayofyear, year."
   ]
  },
  {
   "cell_type": "code",
   "execution_count": 3,
   "metadata": {
    "ExecuteTime": {
     "end_time": "2019-02-15T14:28:50.326293Z",
     "start_time": "2019-02-15T14:28:50.113498Z"
    },
    "colab": {
     "base_uri": "https://localhost:8080/",
     "height": 548
    },
    "id": "CpvF53yEldhH",
    "outputId": "3e349636-7184-4f7d-d575-448966ea4463"
   },
   "outputs": [
    {
     "name": "stderr",
     "output_type": "stream",
     "text": [
      "C:\\Users\\ssche\\AppData\\Local\\Temp/ipykernel_13144/3804393547.py:4: FutureWarning: weekofyear and week have been deprecated, please use DatetimeIndex.isocalendar().week instead, which returns a Series.  To exactly reproduce the behavior of week and weekofyear and return an Index, you may call pd.Int64Index(idx.isocalendar().week)\n",
      "  data['timestamp_' + feature] = getattr(data.index, feature)\n"
     ]
    },
    {
     "data": {
      "text/html": [
       "<div>\n",
       "<style scoped>\n",
       "    .dataframe tbody tr th:only-of-type {\n",
       "        vertical-align: middle;\n",
       "    }\n",
       "\n",
       "    .dataframe tbody tr th {\n",
       "        vertical-align: top;\n",
       "    }\n",
       "\n",
       "    .dataframe thead th {\n",
       "        text-align: right;\n",
       "    }\n",
       "</style>\n",
       "<table border=\"1\" class=\"dataframe\">\n",
       "  <thead>\n",
       "    <tr style=\"text-align: right;\">\n",
       "      <th></th>\n",
       "      <th>energy</th>\n",
       "      <th>timestamp_minute</th>\n",
       "      <th>timestamp_hour</th>\n",
       "      <th>timestamp_dayofweek</th>\n",
       "      <th>timestamp_day</th>\n",
       "      <th>timestamp_week</th>\n",
       "      <th>timestamp_month</th>\n",
       "      <th>timestamp_dayofyear</th>\n",
       "      <th>timestamp_year</th>\n",
       "    </tr>\n",
       "    <tr>\n",
       "      <th>timestamp</th>\n",
       "      <th></th>\n",
       "      <th></th>\n",
       "      <th></th>\n",
       "      <th></th>\n",
       "      <th></th>\n",
       "      <th></th>\n",
       "      <th></th>\n",
       "      <th></th>\n",
       "      <th></th>\n",
       "    </tr>\n",
       "  </thead>\n",
       "  <tbody>\n",
       "    <tr>\n",
       "      <th>2015-05-01 04:15:00</th>\n",
       "      <td>11.754912</td>\n",
       "      <td>15</td>\n",
       "      <td>4</td>\n",
       "      <td>4</td>\n",
       "      <td>1</td>\n",
       "      <td>18</td>\n",
       "      <td>5</td>\n",
       "      <td>121</td>\n",
       "      <td>2015</td>\n",
       "    </tr>\n",
       "    <tr>\n",
       "      <th>2015-05-01 04:15:00</th>\n",
       "      <td>11.477615</td>\n",
       "      <td>15</td>\n",
       "      <td>4</td>\n",
       "      <td>4</td>\n",
       "      <td>1</td>\n",
       "      <td>18</td>\n",
       "      <td>5</td>\n",
       "      <td>121</td>\n",
       "      <td>2015</td>\n",
       "    </tr>\n",
       "    <tr>\n",
       "      <th>2015-05-01 04:30:00</th>\n",
       "      <td>11.740892</td>\n",
       "      <td>30</td>\n",
       "      <td>4</td>\n",
       "      <td>4</td>\n",
       "      <td>1</td>\n",
       "      <td>18</td>\n",
       "      <td>5</td>\n",
       "      <td>121</td>\n",
       "      <td>2015</td>\n",
       "    </tr>\n",
       "    <tr>\n",
       "      <th>2015-05-01 04:45:00</th>\n",
       "      <td>14.156742</td>\n",
       "      <td>45</td>\n",
       "      <td>4</td>\n",
       "      <td>4</td>\n",
       "      <td>1</td>\n",
       "      <td>18</td>\n",
       "      <td>5</td>\n",
       "      <td>121</td>\n",
       "      <td>2015</td>\n",
       "    </tr>\n",
       "    <tr>\n",
       "      <th>2015-05-01 04:45:00</th>\n",
       "      <td>9.213514</td>\n",
       "      <td>45</td>\n",
       "      <td>4</td>\n",
       "      <td>4</td>\n",
       "      <td>1</td>\n",
       "      <td>18</td>\n",
       "      <td>5</td>\n",
       "      <td>121</td>\n",
       "      <td>2015</td>\n",
       "    </tr>\n",
       "  </tbody>\n",
       "</table>\n",
       "</div>"
      ],
      "text/plain": [
       "                        energy  timestamp_minute  timestamp_hour  \\\n",
       "timestamp                                                          \n",
       "2015-05-01 04:15:00  11.754912                15               4   \n",
       "2015-05-01 04:15:00  11.477615                15               4   \n",
       "2015-05-01 04:30:00  11.740892                30               4   \n",
       "2015-05-01 04:45:00  14.156742                45               4   \n",
       "2015-05-01 04:45:00   9.213514                45               4   \n",
       "\n",
       "                     timestamp_dayofweek  timestamp_day  timestamp_week  \\\n",
       "timestamp                                                                 \n",
       "2015-05-01 04:15:00                    4              1              18   \n",
       "2015-05-01 04:15:00                    4              1              18   \n",
       "2015-05-01 04:30:00                    4              1              18   \n",
       "2015-05-01 04:45:00                    4              1              18   \n",
       "2015-05-01 04:45:00                    4              1              18   \n",
       "\n",
       "                     timestamp_month  timestamp_dayofyear  timestamp_year  \n",
       "timestamp                                                                  \n",
       "2015-05-01 04:15:00                5                  121            2015  \n",
       "2015-05-01 04:15:00                5                  121            2015  \n",
       "2015-05-01 04:30:00                5                  121            2015  \n",
       "2015-05-01 04:45:00                5                  121            2015  \n",
       "2015-05-01 04:45:00                5                  121            2015  "
      ]
     },
     "execution_count": 3,
     "metadata": {},
     "output_type": "execute_result"
    }
   ],
   "source": [
    "baseline_features = ['minute', 'hour', 'dayofweek', 'day', 'week', 'month', 'dayofyear', 'year']\n",
    "\n",
    "for feature in baseline_features:\n",
    "    data['timestamp_' + feature] = getattr(data.index, feature)\n",
    "\n",
    "data.head()"
   ]
  },
  {
   "cell_type": "markdown",
   "metadata": {
    "id": "f6qxef83ldhJ"
   },
   "source": [
    "These are pretty straightforward. We should be careful to note the day of week goes from 0 (Monday) to 6 (Sunday)."
   ]
  },
  {
   "cell_type": "code",
   "execution_count": 4,
   "metadata": {
    "ExecuteTime": {
     "end_time": "2019-02-15T14:28:53.489098Z",
     "start_time": "2019-02-15T14:28:53.398589Z"
    },
    "colab": {
     "base_uri": "https://localhost:8080/"
    },
    "id": "cPXjOPyMldhK",
    "outputId": "efc6aa9d-0faf-4922-f2fa-2f6ba08bf5ff"
   },
   "outputs": [
    {
     "data": {
      "text/plain": [
       "energy                 105280\n",
       "timestamp_minute            4\n",
       "timestamp_hour             24\n",
       "timestamp_dayofweek         7\n",
       "timestamp_day              31\n",
       "timestamp_week             53\n",
       "timestamp_month            12\n",
       "timestamp_dayofyear       366\n",
       "timestamp_year              3\n",
       "dtype: int64"
      ]
     },
     "execution_count": 4,
     "metadata": {},
     "output_type": "execute_result"
    }
   ],
   "source": [
    "data.apply(lambda x: x.nunique(), axis=0)"
   ]
  },
  {
   "cell_type": "markdown",
   "metadata": {
    "id": "EY2PpM18ldhL"
   },
   "source": [
    "### Fractional Features\n",
    "\n",
    "If we want to compress these features, we can convert them into fractions of their respective interval. For example, fraction of the day, fraction of the month, fraction of the week, and fraction of the year."
   ]
  },
  {
   "cell_type": "code",
   "execution_count": 5,
   "metadata": {
    "ExecuteTime": {
     "end_time": "2019-02-15T14:29:02.576712Z",
     "start_time": "2019-02-15T14:29:02.173047Z"
    },
    "colab": {
     "base_uri": "https://localhost:8080/",
     "height": 542
    },
    "id": "6Hali1RQldhM",
    "outputId": "204d7a31-55a7-434e-ff8e-a123c80a8517"
   },
   "outputs": [],
   "source": [
    "data['frac_day'] = ((data['timestamp_minute'] / 60) + data['timestamp_hour'])  / 24"
   ]
  },
  {
   "cell_type": "code",
   "execution_count": 37,
   "metadata": {},
   "outputs": [
    {
     "data": {
      "text/plain": [
       "(286, 19)"
      ]
     },
     "execution_count": 37,
     "metadata": {},
     "output_type": "execute_result"
    }
   ],
   "source": [
    "subset = data[(data['timestamp_month'] == 5) & (data['timestamp_day'] == 1)]\n",
    "subset.shape"
   ]
  },
  {
   "cell_type": "code",
   "execution_count": 6,
   "metadata": {
    "ExecuteTime": {
     "end_time": "2019-02-15T14:29:03.650502Z",
     "start_time": "2019-02-15T14:29:03.455051Z"
    },
    "id": "S-yAAoLkldhN",
    "outputId": "53517ac3-665c-41a6-a61f-92fc5420eb5e"
   },
   "outputs": [],
   "source": [
    "data['frac_week'] = (data['frac_day'] + data['timestamp_dayofweek']) / 7"
   ]
  },
  {
   "cell_type": "markdown",
   "metadata": {
    "id": "QYQmb_U-ldhO"
   },
   "source": [
    "For the fractional month, we have to use the number of `days_in_month` which is an attribute of a time series in Pandas."
   ]
  },
  {
   "cell_type": "code",
   "execution_count": 8,
   "metadata": {
    "ExecuteTime": {
     "end_time": "2019-02-15T14:29:13.688783Z",
     "start_time": "2019-02-15T14:29:12.856407Z"
    },
    "id": "TercT4egldhP",
    "outputId": "6b5590f5-4a73-47ac-a227-98a5e3ffafc1"
   },
   "outputs": [],
   "source": [
    "data['frac_month' ] = (data['timestamp_day'] + data['frac_day']) / data.index.days_in_month"
   ]
  },
  {
   "cell_type": "markdown",
   "metadata": {
    "id": "PTsSOrCrldhP"
   },
   "source": [
    "For the fraction of the year, we have to find the number of days in the year which obeys the rules:\n",
    "\n",
    "1. 365 in a non-leap year\n",
    "2. 366 in a leap year which occurs:\n",
    "    * When the year is divisible by 4 except:\n",
    "        * Years divisible by 100 and not divisible by 400\n",
    "        \n",
    "This logic is captured below"
   ]
  },
  {
   "cell_type": "code",
   "execution_count": 9,
   "metadata": {
    "ExecuteTime": {
     "end_time": "2019-02-15T14:37:07.010661Z",
     "start_time": "2019-02-15T14:37:06.964023Z"
    },
    "id": "xZeW4jhCldhQ",
    "outputId": "078feefb-3a71-4785-9b06-ee37d8186003"
   },
   "outputs": [
    {
     "data": {
      "text/plain": [
       "array([365, 366, 366, 365, 365, 365, 365, 366])"
      ]
     },
     "execution_count": 9,
     "metadata": {},
     "output_type": "execute_result"
    }
   ],
   "source": [
    "def find_days_in_year(years):\n",
    "    return np.where((years % 4 == 0) & ((years % 100 != 0) | (years % 400 == 0)), 366, 365)\n",
    "\n",
    "\n",
    "find_days_in_year(np.array([1900, 2000, 2004, 2005, 2009, 2010, 3000, 3200]))"
   ]
  },
  {
   "cell_type": "code",
   "execution_count": 10,
   "metadata": {
    "ExecuteTime": {
     "end_time": "2019-02-15T14:38:05.541801Z",
     "start_time": "2019-02-15T14:38:05.486015Z"
    },
    "id": "Q2npOH8dldhR",
    "outputId": "39f1c53d-7afe-488a-8c91-a3d577e2ee16"
   },
   "outputs": [
    {
     "data": {
      "text/plain": [
       "array([365, 366])"
      ]
     },
     "execution_count": 10,
     "metadata": {},
     "output_type": "execute_result"
    }
   ],
   "source": [
    "days_in_year = find_days_in_year(data['timestamp_year'])\n",
    "np.unique(days_in_year)"
   ]
  },
  {
   "cell_type": "code",
   "execution_count": null,
   "metadata": {
    "ExecuteTime": {
     "end_time": "2019-02-15T14:39:11.823853Z",
     "start_time": "2019-02-15T14:39:11.000758Z"
    },
    "id": "-573OGkoldhR",
    "outputId": "28141d2a-328e-4654-a76e-739fe983cc4d"
   },
   "outputs": [],
   "source": [
    "data['frac_year'] = (data['timestamp_dayofyear'] + data['frac_day']) / days_in_year"
   ]
  },
  {
   "cell_type": "markdown",
   "metadata": {
    "id": "Z4gFQ3jjldhS"
   },
   "source": [
    "### Cyclical Encoding of Features\n",
    "\n",
    "Cyclical encoding of time-series features is typically done with time/date features that repeat periodically such as the hour of the day or day of the year. My experience is that cyclical encoding will improve the performance of the simple model like Linear Regression, but will not improve the performance of the model with higher capacity like the Random Forest Regression.These models are able to learn the relationships between the day of year, time of day and the target without cyclical encoding. The feature transformation does not hurt the more complex models, but it adds unnecessary steps to a machine learning pipeline without adding benefits."
   ]
  },
  {
   "cell_type": "markdown",
   "metadata": {},
   "source": [
    "#### Transformers\n",
    "To repeatedly create the same features, we'll make two scikit-learn transformers and then join them together in a pipeline.\n",
    "\n",
    "Scikit-Learn transformers give us a standard interface for applying operations to our data. Using transformers is efficient and allows you to build robust systems.\n"
   ]
  },
  {
   "cell_type": "code",
   "execution_count": 13,
   "metadata": {},
   "outputs": [],
   "source": [
    "from sklearn.base import BaseEstimator, TransformerMixin\n",
    "\n",
    "class DateTimeFeatures(BaseEstimator, TransformerMixin):\n",
    "    \"\"\"\n",
    "    Extract day of year and time of day features from a timestamp\n",
    "    \"\"\"\n",
    "    def __init__(self):\n",
    "        pass\n",
    "\n",
    "    def fit(self, X, y=None):\n",
    "        return self\n",
    "\n",
    "    def transform(self, X, y=None):\n",
    "        # Timestamps must be in index\n",
    "        field = X.index\n",
    "        X[\"time_of_day\"] = field.hour + field.minute / 60\n",
    "        X[\"day_of_year\"] = field.dayofyear\n",
    "        return X\n",
    "\n",
    "\n",
    "class CyclicalDateTimeFeatures(BaseEstimator, TransformerMixin):\n",
    "    \"\"\"\n",
    "    Make cyclically encoded day of year and time of day features\n",
    "    \"\"\"\n",
    "    def __init__(self):\n",
    "        pass\n",
    "\n",
    "    def fit(self, X, y=None):\n",
    "        return self\n",
    "\n",
    "    def transform(self, X, y=None):\n",
    "        # Apply formula for sin and cosine\n",
    "        X[\"sin_time_of_day\"], X[\"cos_time_of_day\"] = _cyclical_encoding(\n",
    "            X[\"time_of_day\"], period=24\n",
    "        )\n",
    "        X[\"sin_day_of_year\"], X[\"cos_day_of_year\"] = _cyclical_encoding(\n",
    "            X[\"day_of_year\"], period=366\n",
    "        )\n",
    "        return X\n",
    "\n",
    "def _cyclical_encoding(series, period):\n",
    "    \"\"\"\n",
    "    Cyclical encoding of a series with a specified period\n",
    "    \"\"\"\n",
    "    # Basic formula for sin/cosine equation\n",
    "    base = 2 * np.pi * series / period\n",
    "    return np.sin(base), np.cos(base)"
   ]
  },
  {
   "cell_type": "markdown",
   "metadata": {},
   "source": [
    "#### Pipeline\n",
    "\n",
    "The pipeline is one of the most important features in sklearn. I highly recommend reading up on the Pipeline and using it throughout your data science projects."
   ]
  },
  {
   "cell_type": "code",
   "execution_count": 14,
   "metadata": {},
   "outputs": [],
   "source": [
    "from sklearn.pipeline import Pipeline\n",
    "\n",
    "# Make a pipeline with the steps\n",
    "transforms = Pipeline(\n",
    "    steps=[\n",
    "        # Must create the date/time features before encoding\n",
    "        (\"date_time_features\", DateTimeFeatures()),\n",
    "        (\"cylical_date_time_features\", CyclicalDateTimeFeatures()),\n",
    "    ]\n",
    ")"
   ]
  },
  {
   "cell_type": "code",
   "execution_count": 15,
   "metadata": {},
   "outputs": [
    {
     "data": {
      "text/html": [
       "<div>\n",
       "<style scoped>\n",
       "    .dataframe tbody tr th:only-of-type {\n",
       "        vertical-align: middle;\n",
       "    }\n",
       "\n",
       "    .dataframe tbody tr th {\n",
       "        vertical-align: top;\n",
       "    }\n",
       "\n",
       "    .dataframe thead th {\n",
       "        text-align: right;\n",
       "    }\n",
       "</style>\n",
       "<table border=\"1\" class=\"dataframe\">\n",
       "  <thead>\n",
       "    <tr style=\"text-align: right;\">\n",
       "      <th></th>\n",
       "      <th>energy</th>\n",
       "      <th>timestamp_minute</th>\n",
       "      <th>timestamp_hour</th>\n",
       "      <th>timestamp_dayofweek</th>\n",
       "      <th>timestamp_day</th>\n",
       "      <th>timestamp_week</th>\n",
       "      <th>timestamp_month</th>\n",
       "      <th>timestamp_dayofyear</th>\n",
       "      <th>timestamp_year</th>\n",
       "      <th>frac_day</th>\n",
       "      <th>frac_week</th>\n",
       "      <th>frac_month</th>\n",
       "      <th>frac_year</th>\n",
       "      <th>time_of_day</th>\n",
       "      <th>day_of_year</th>\n",
       "      <th>sin_time_of_day</th>\n",
       "      <th>cos_time_of_day</th>\n",
       "      <th>sin_day_of_year</th>\n",
       "      <th>cos_day_of_year</th>\n",
       "    </tr>\n",
       "    <tr>\n",
       "      <th>timestamp</th>\n",
       "      <th></th>\n",
       "      <th></th>\n",
       "      <th></th>\n",
       "      <th></th>\n",
       "      <th></th>\n",
       "      <th></th>\n",
       "      <th></th>\n",
       "      <th></th>\n",
       "      <th></th>\n",
       "      <th></th>\n",
       "      <th></th>\n",
       "      <th></th>\n",
       "      <th></th>\n",
       "      <th></th>\n",
       "      <th></th>\n",
       "      <th></th>\n",
       "      <th></th>\n",
       "      <th></th>\n",
       "      <th></th>\n",
       "    </tr>\n",
       "  </thead>\n",
       "  <tbody>\n",
       "    <tr>\n",
       "      <th>2015-05-01 04:15:00</th>\n",
       "      <td>11.754912</td>\n",
       "      <td>15</td>\n",
       "      <td>4</td>\n",
       "      <td>4</td>\n",
       "      <td>1</td>\n",
       "      <td>18</td>\n",
       "      <td>5</td>\n",
       "      <td>121</td>\n",
       "      <td>2015</td>\n",
       "      <td>0.177083</td>\n",
       "      <td>0.596726</td>\n",
       "      <td>0.037970</td>\n",
       "      <td>0.331992</td>\n",
       "      <td>4.25</td>\n",
       "      <td>121</td>\n",
       "      <td>0.896873</td>\n",
       "      <td>0.442289</td>\n",
       "      <td>0.874481</td>\n",
       "      <td>-0.48506</td>\n",
       "    </tr>\n",
       "    <tr>\n",
       "      <th>2015-05-01 04:15:00</th>\n",
       "      <td>11.477615</td>\n",
       "      <td>15</td>\n",
       "      <td>4</td>\n",
       "      <td>4</td>\n",
       "      <td>1</td>\n",
       "      <td>18</td>\n",
       "      <td>5</td>\n",
       "      <td>121</td>\n",
       "      <td>2015</td>\n",
       "      <td>0.177083</td>\n",
       "      <td>0.596726</td>\n",
       "      <td>0.037970</td>\n",
       "      <td>0.331992</td>\n",
       "      <td>4.25</td>\n",
       "      <td>121</td>\n",
       "      <td>0.896873</td>\n",
       "      <td>0.442289</td>\n",
       "      <td>0.874481</td>\n",
       "      <td>-0.48506</td>\n",
       "    </tr>\n",
       "    <tr>\n",
       "      <th>2015-05-01 04:30:00</th>\n",
       "      <td>11.740892</td>\n",
       "      <td>30</td>\n",
       "      <td>4</td>\n",
       "      <td>4</td>\n",
       "      <td>1</td>\n",
       "      <td>18</td>\n",
       "      <td>5</td>\n",
       "      <td>121</td>\n",
       "      <td>2015</td>\n",
       "      <td>0.187500</td>\n",
       "      <td>0.598214</td>\n",
       "      <td>0.038306</td>\n",
       "      <td>0.332021</td>\n",
       "      <td>4.50</td>\n",
       "      <td>121</td>\n",
       "      <td>0.923880</td>\n",
       "      <td>0.382683</td>\n",
       "      <td>0.874481</td>\n",
       "      <td>-0.48506</td>\n",
       "    </tr>\n",
       "    <tr>\n",
       "      <th>2015-05-01 04:45:00</th>\n",
       "      <td>14.156742</td>\n",
       "      <td>45</td>\n",
       "      <td>4</td>\n",
       "      <td>4</td>\n",
       "      <td>1</td>\n",
       "      <td>18</td>\n",
       "      <td>5</td>\n",
       "      <td>121</td>\n",
       "      <td>2015</td>\n",
       "      <td>0.197917</td>\n",
       "      <td>0.599702</td>\n",
       "      <td>0.038642</td>\n",
       "      <td>0.332049</td>\n",
       "      <td>4.75</td>\n",
       "      <td>121</td>\n",
       "      <td>0.946930</td>\n",
       "      <td>0.321439</td>\n",
       "      <td>0.874481</td>\n",
       "      <td>-0.48506</td>\n",
       "    </tr>\n",
       "    <tr>\n",
       "      <th>2015-05-01 04:45:00</th>\n",
       "      <td>9.213514</td>\n",
       "      <td>45</td>\n",
       "      <td>4</td>\n",
       "      <td>4</td>\n",
       "      <td>1</td>\n",
       "      <td>18</td>\n",
       "      <td>5</td>\n",
       "      <td>121</td>\n",
       "      <td>2015</td>\n",
       "      <td>0.197917</td>\n",
       "      <td>0.599702</td>\n",
       "      <td>0.038642</td>\n",
       "      <td>0.332049</td>\n",
       "      <td>4.75</td>\n",
       "      <td>121</td>\n",
       "      <td>0.946930</td>\n",
       "      <td>0.321439</td>\n",
       "      <td>0.874481</td>\n",
       "      <td>-0.48506</td>\n",
       "    </tr>\n",
       "  </tbody>\n",
       "</table>\n",
       "</div>"
      ],
      "text/plain": [
       "                        energy  timestamp_minute  timestamp_hour  \\\n",
       "timestamp                                                          \n",
       "2015-05-01 04:15:00  11.754912                15               4   \n",
       "2015-05-01 04:15:00  11.477615                15               4   \n",
       "2015-05-01 04:30:00  11.740892                30               4   \n",
       "2015-05-01 04:45:00  14.156742                45               4   \n",
       "2015-05-01 04:45:00   9.213514                45               4   \n",
       "\n",
       "                     timestamp_dayofweek  timestamp_day  timestamp_week  \\\n",
       "timestamp                                                                 \n",
       "2015-05-01 04:15:00                    4              1              18   \n",
       "2015-05-01 04:15:00                    4              1              18   \n",
       "2015-05-01 04:30:00                    4              1              18   \n",
       "2015-05-01 04:45:00                    4              1              18   \n",
       "2015-05-01 04:45:00                    4              1              18   \n",
       "\n",
       "                     timestamp_month  timestamp_dayofyear  timestamp_year  \\\n",
       "timestamp                                                                   \n",
       "2015-05-01 04:15:00                5                  121            2015   \n",
       "2015-05-01 04:15:00                5                  121            2015   \n",
       "2015-05-01 04:30:00                5                  121            2015   \n",
       "2015-05-01 04:45:00                5                  121            2015   \n",
       "2015-05-01 04:45:00                5                  121            2015   \n",
       "\n",
       "                     frac_day  frac_week  frac_month  frac_year  time_of_day  \\\n",
       "timestamp                                                                      \n",
       "2015-05-01 04:15:00  0.177083   0.596726    0.037970   0.331992         4.25   \n",
       "2015-05-01 04:15:00  0.177083   0.596726    0.037970   0.331992         4.25   \n",
       "2015-05-01 04:30:00  0.187500   0.598214    0.038306   0.332021         4.50   \n",
       "2015-05-01 04:45:00  0.197917   0.599702    0.038642   0.332049         4.75   \n",
       "2015-05-01 04:45:00  0.197917   0.599702    0.038642   0.332049         4.75   \n",
       "\n",
       "                     day_of_year  sin_time_of_day  cos_time_of_day  \\\n",
       "timestamp                                                            \n",
       "2015-05-01 04:15:00          121         0.896873         0.442289   \n",
       "2015-05-01 04:15:00          121         0.896873         0.442289   \n",
       "2015-05-01 04:30:00          121         0.923880         0.382683   \n",
       "2015-05-01 04:45:00          121         0.946930         0.321439   \n",
       "2015-05-01 04:45:00          121         0.946930         0.321439   \n",
       "\n",
       "                     sin_day_of_year  cos_day_of_year  \n",
       "timestamp                                              \n",
       "2015-05-01 04:15:00         0.874481         -0.48506  \n",
       "2015-05-01 04:15:00         0.874481         -0.48506  \n",
       "2015-05-01 04:30:00         0.874481         -0.48506  \n",
       "2015-05-01 04:45:00         0.874481         -0.48506  \n",
       "2015-05-01 04:45:00         0.874481         -0.48506  "
      ]
     },
     "execution_count": 15,
     "metadata": {},
     "output_type": "execute_result"
    }
   ],
   "source": [
    "transformed_data = transforms.transform(data)\n",
    "transformed_data.head()"
   ]
  },
  {
   "cell_type": "code",
   "execution_count": 70,
   "metadata": {},
   "outputs": [
    {
     "data": {
      "image/png": "[encoded data removed]",
      "text/plain": [
       "<Figure size 432x288 with 1 Axes>"
      ]
     },
     "metadata": {
      "needs_background": "light"
     },
     "output_type": "display_data"
    }
   ],
   "source": [
    "plt.rc('lines', linewidth=2.5)\n",
    "fig, ax = plt.subplots()\n",
    "y = data[\"sin_day_of_year\"]\n",
    "line1, = ax.plot( y, label='sin day of year')\n",
    "line1.set_dash_capstyle('round')\n",
    "y = data['cos_day_of_year']\n",
    "line2, = ax.plot( y , dashes=[6, 2], label='cos day of year')\n",
    "ax.legend(handlelength=1, loc='lower right', bbox_to_anchor=(1, 1))\n",
    "plt.axis('off')\n",
    "plt.show()\n"
   ]
  },
  {
   "cell_type": "markdown",
   "metadata": {},
   "source": [
    "#### Final remark\n",
    "We can apply different amplitude, frequency and phase or even different combination of sin and cos function to mimic different periodic pattern."
   ]
  },
  {
   "cell_type": "code",
   "execution_count": null,
   "metadata": {},
   "outputs": [],
   "source": []
  }
 ],
 "metadata": {
  "colab": {
   "provenance": []
  },
  "hide_input": false,
  "kernelspec": {
   "display_name": "Python 3 (ipykernel)",
   "language": "python",
   "name": "python3"
  },
  "language_info": {
   "codemirror_mode": {
    "name": "ipython",
    "version": 3
   },
   "file_extension": ".py",
   "mimetype": "text/x-python",
   "name": "python",
   "nbconvert_exporter": "python",
   "pygments_lexer": "ipython3",
   "version": "3.9.7"
  },
  "toc": {
   "base_numbering": 1,
   "nav_menu": {},
   "number_sections": true,
   "sideBar": true,
   "skip_h1_title": false,
   "title_cell": "Table of Contents",
   "title_sidebar": "Contents",
   "toc_cell": false,
   "toc_position": {},
   "toc_section_display": true,
   "toc_window_display": false
  },
  "varInspector": {
   "cols": {
    "lenName": 16,
    "lenType": 16,
    "lenVar": 40
   },
   "kernels_config": {
    "python": {
     "delete_cmd_postfix": "",
     "delete_cmd_prefix": "del ",
     "library": "var_list.py",
     "varRefreshCmd": "print(var_dic_list())"
    },
    "r": {
     "delete_cmd_postfix": ") ",
     "delete_cmd_prefix": "rm(",
     "library": "var_list.r",
     "varRefreshCmd": "cat(var_dic_list()) "
    }
   },
   "types_to_exclude": [
    "module",
    "function",
    "builtin_function_or_method",
    "instance",
    "_Feature"
   ],
   "window_display": false
  }
 },
 "nbformat": 4,
 "nbformat_minor": 1
}
